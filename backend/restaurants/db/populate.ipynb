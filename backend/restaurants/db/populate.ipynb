{
 "cells": [
  {
   "cell_type": "code",
   "execution_count": 2,
   "metadata": {},
   "outputs": [],
   "source": [
    "import numpy as np\n",
    "import pandas as pd\n",
    "import requests\n",
    "from zipfile import ZipFile\n",
    "from ahocorasick import Automaton\n",
    "from tqdm.auto import tqdm"
   ]
  },
  {
   "attachments": {},
   "cell_type": "markdown",
   "metadata": {},
   "source": [
    "# Code to clean the data"
   ]
  },
  {
   "cell_type": "code",
   "execution_count": 3,
   "metadata": {},
   "outputs": [
    {
     "name": "stderr",
     "output_type": "stream",
     "text": [
      "/var/folders/jb/ntxm50wx2wv90pnq36yd8w940000gn/T/ipykernel_28151/804822752.py:4: DtypeWarning: Columns (7) have mixed types. Specify dtype option on import or set low_memory=False.\n",
      "  data = pd.read_csv(zip_file.open(csv_file))\n"
     ]
    }
   ],
   "source": [
    "FILE = \"./italian_restaurants.zip\"\n",
    "zip_file = ZipFile(FILE)\n",
    "csv_file = zip_file.namelist()[0]\n",
    "data = pd.read_csv(zip_file.open(csv_file))"
   ]
  },
  {
   "cell_type": "code",
   "execution_count": 4,
   "metadata": {},
   "outputs": [],
   "source": [
    "# data.iloc[0]"
   ]
  },
  {
   "attachments": {},
   "cell_type": "markdown",
   "metadata": {},
   "source": [
    "Removing useless fields"
   ]
  },
  {
   "cell_type": "code",
   "execution_count": 5,
   "metadata": {},
   "outputs": [],
   "source": [
    "df = data.drop([\"claimed\", \n",
    "           \"awards\", \n",
    "           \"popularity_detailed\", \n",
    "           \"popularity_generic\", \n",
    "           \"price_range\", \n",
    "           \"features\", \n",
    "           \"open_days_per_week\", \n",
    "           \"open_hours_per_week\", \n",
    "           \"working_shifts_per_week\",\n",
    "           \"default_language\",\n",
    "           \"reviews_count_in_default_language\",\n",
    "           \"excellent\",\n",
    "           \"very_good\",\n",
    "           \"average\",\n",
    "           \"poor\",\n",
    "           \"terrible\",\n",
    "           \"food\",\n",
    "           \"service\",\n",
    "           \"value\",\n",
    "           \"atmosphere\",\n",
    "           \"keywords\"], axis=1)"
   ]
  },
  {
   "attachments": {},
   "cell_type": "markdown",
   "metadata": {},
   "source": [
    "Populating the \"City\" field taking it from the address"
   ]
  },
  {
   "cell_type": "code",
   "execution_count": 6,
   "metadata": {},
   "outputs": [],
   "source": [
    "comuni_df = pd.read_csv(\"./elenco_comuni_italiani.csv\", encoding='iso-8859-1', delimiter=\";\")"
   ]
  },
  {
   "cell_type": "code",
   "execution_count": 7,
   "metadata": {},
   "outputs": [
    {
     "data": {
      "application/vnd.jupyter.widget-view+json": {
       "model_id": "dffa702feac9476cafd48d0c6004cce3",
       "version_major": 2,
       "version_minor": 0
      },
      "text/plain": [
       "  0%|          | 0/224763 [00:00<?, ?it/s]"
      ]
     },
     "metadata": {},
     "output_type": "display_data"
    }
   ],
   "source": [
    "#TODO: \"Rome\" non viene preso, quindi risolvi questa cosa\n",
    "def build_automaton(keywords):\n",
    "    automaton = Automaton()\n",
    "    for keyword in keywords:\n",
    "        automaton.add_word(keyword, keyword)\n",
    "    automaton.make_automaton()\n",
    "    return automaton\n",
    "\n",
    "keywords = [row['Denominazione in italiano'].lower() for _, row in comuni_df.iterrows()]\n",
    "automaton = build_automaton(keywords)\n",
    "\n",
    "def find_comune(address):\n",
    "    found = set()\n",
    "    for item in automaton.iter(\",\".join(address.split(\",\")[1:]).lower()):\n",
    "        found.add(item[1])\n",
    "    if found:\n",
    "        return max(found, key=len)\n",
    "    else:\n",
    "        return None\n",
    "\n",
    "tqdm.pandas()\n",
    "df['city'] = df['address'].progress_apply(find_comune)\n",
    "\n"
   ]
  },
  {
   "cell_type": "code",
   "execution_count": 8,
   "metadata": {},
   "outputs": [],
   "source": [
    "final_df = df.copy()\n",
    "final_df['total_reviews_count'] = final_df['total_reviews_count'].fillna(0.0)\n",
    "final_df['avg_rating'] = final_df['avg_rating'].fillna(0.0)\n",
    "final_df = final_df.fillna(\"\")\n",
    "final_df = final_df[final_df[\"latitude\"] != \"\"]\n",
    "final_df = final_df[final_df[\"longitude\"] != \"\"]"
   ]
  },
  {
   "cell_type": "code",
   "execution_count": 9,
   "metadata": {},
   "outputs": [],
   "source": [
    "df = final_df.reset_index()"
   ]
  },
  {
   "attachments": {},
   "cell_type": "markdown",
   "metadata": {},
   "source": [
    "### Save the dataframe as a zipped file"
   ]
  },
  {
   "cell_type": "code",
   "execution_count": 10,
   "metadata": {},
   "outputs": [],
   "source": [
    "# from zipfile import ZipFile\n",
    "# import os\n",
    "\n",
    "# DF_PATH = \"./italian_restaurant_clean.csv\"\n",
    "# ZIP_PATH = \"./italian_restaurant_clean.zip\"\n",
    "# final_df.to_csv(DF_PATH)\n",
    "# with ZipFile(ZIP_PATH, \"w\") as myzip:\n",
    "#     myzip.write(DF_PATH)\n",
    "\n",
    "# os.remove(DF_PATH)"
   ]
  },
  {
   "attachments": {},
   "cell_type": "markdown",
   "metadata": {},
   "source": [
    "# Code to insert the restaurants in the database "
   ]
  },
  {
   "cell_type": "code",
   "execution_count": 11,
   "metadata": {},
   "outputs": [],
   "source": [
    "# df = pd.read_csv(\"./italian_restaurant_clean.zip\")"
   ]
  },
  {
   "cell_type": "code",
   "execution_count": 12,
   "metadata": {},
   "outputs": [
    {
     "name": "stdout",
     "output_type": "stream",
     "text": [
      "Metal device set to: Apple M1\n",
      "\n",
      "systemMemory: 8.00 GB\n",
      "maxCacheSize: 2.67 GB\n",
      "\n"
     ]
    },
    {
     "name": "stderr",
     "output_type": "stream",
     "text": [
      "2023-05-18 12:22:30.620331: I tensorflow/core/common_runtime/pluggable_device/pluggable_device_factory.cc:306] Could not identify NUMA node of platform GPU ID 0, defaulting to 0. Your kernel may not have been built with NUMA support.\n",
      "2023-05-18 12:22:30.620378: I tensorflow/core/common_runtime/pluggable_device/pluggable_device_factory.cc:272] Created TensorFlow device (/job:localhost/replica:0/task:0/device:GPU:0 with 0 MB memory) -> physical PluggableDevice (device: 0, name: METAL, pci bus id: <undefined>)\n",
      "2023-05-18 12:22:40.657687: W tensorflow/tsl/platform/profile_utils/cpu_utils.cc:128] Failed to get CPU frequency: 0 Hz\n",
      "2023-05-18 12:22:40.712824: I tensorflow/core/grappler/optimizers/custom_graph_optimizer_registry.cc:114] Plugin optimizer for device_type GPU is enabled.\n"
     ]
    }
   ],
   "source": [
    "import tensorflow as tf\n",
    "import tensorflow_hub as hub\n",
    "\n",
    "# Load the Universal Sentence Encoder\n",
    "# use_model = hub.load(\"https://tfhub.dev/google/universal-sentence-encoder-large/5\")\n",
    "use_model = hub.load(\"https://tfhub.dev/tensorflow/tfjs-model/universal-sentence-encoder-lite/1/default/1\")\n",
    "def embed_name(name):\n",
    "    embeddings = use_model([name])\n",
    "    return embeddings[0]"
   ]
  },
  {
   "cell_type": "code",
   "execution_count": 36,
   "metadata": {},
   "outputs": [
    {
     "name": "stdout",
     "output_type": "stream",
     "text": [
      "tf.Tensor(\n",
      "[ 1.64556336e-02  1.15570668e-02 -4.57089692e-02 -3.25988345e-02\n",
      " -2.11590715e-02 -2.27180999e-02 -1.67041887e-02 -3.47554274e-02\n",
      "  1.50391553e-03 -1.33230956e-02 -2.25194395e-02  6.89918026e-02\n",
      " -2.49969885e-02  9.22679808e-03 -7.92731065e-03  3.90731124e-03\n",
      " -4.97879609e-02  4.63860994e-03  6.85884878e-02  8.86448547e-02\n",
      "  8.12171549e-02  5.05549721e-02 -1.80041511e-02  1.20137427e-02\n",
      "  3.82102877e-02 -5.80813028e-02  3.02581321e-02  3.30682397e-02\n",
      " -2.58147027e-02  9.90221202e-02  1.03083886e-02  4.06892449e-02\n",
      " -5.25266193e-02  5.53741232e-02  1.81524474e-02 -3.12040583e-03\n",
      " -9.87769663e-03  7.14933723e-02 -2.73623932e-02 -3.08117047e-02\n",
      "  1.47487491e-03  6.39161095e-02 -2.17536725e-02 -3.69621404e-02\n",
      "  7.08925352e-02  2.43635476e-02  2.68492829e-02 -7.92923644e-02\n",
      " -1.79155916e-02 -3.63301001e-02  2.98728119e-03  1.00280391e-02\n",
      "  1.49169173e-02  2.69088289e-03 -1.58063099e-02 -3.53279896e-02\n",
      "  6.59534782e-02 -3.05400249e-02 -3.03522144e-02 -2.14141086e-02\n",
      "  4.06397544e-02  2.85683386e-03 -3.53777483e-02 -3.72939333e-02\n",
      " -5.58925793e-02 -4.71276976e-02  5.44330589e-02 -3.38502973e-02\n",
      "  1.11283101e-02 -5.60224950e-02  2.24369429e-02  5.74846193e-02\n",
      " -5.22597600e-03 -3.69248502e-02 -3.40140797e-02 -2.32136692e-03\n",
      " -3.71510312e-02 -5.69657683e-02  1.00764418e-02  4.90267947e-02\n",
      " -5.29077835e-02  4.92332466e-02 -1.32729122e-02 -3.26051260e-03\n",
      "  4.76212539e-02  2.09039412e-02 -4.53214720e-02  2.60900222e-02\n",
      " -3.34449522e-02 -7.46922866e-02 -5.34473881e-02 -5.24171293e-02\n",
      " -1.52499164e-02  7.22950418e-03 -5.08304015e-02 -4.36513796e-02\n",
      "  4.55452539e-02 -9.86364391e-03  2.42561735e-02  5.65502269e-04\n",
      "  4.85144332e-02 -7.27593228e-02 -4.76457588e-02  2.27432465e-03\n",
      " -4.82908031e-03  2.22906321e-02 -5.87873608e-02 -1.34960964e-01\n",
      " -1.00528924e-02  6.01731986e-03 -2.52015423e-02 -2.99140555e-03\n",
      " -1.97517853e-02  5.74144162e-02  4.36391355e-03  6.00325949e-02\n",
      "  2.87898537e-02 -2.60874797e-02 -3.19405608e-02  7.79963704e-03\n",
      " -1.03254080e-01 -2.59821340e-02 -4.57449220e-02 -2.00991035e-02\n",
      " -5.53369075e-02 -7.38827558e-03  7.42340460e-02  3.51009928e-02\n",
      "  2.61146892e-02 -2.50947978e-02  2.75846161e-02 -4.66678105e-02\n",
      " -1.98805779e-02 -4.59780917e-03 -5.34474514e-02 -2.33081244e-02\n",
      "  1.37894298e-03  2.73578987e-02  2.05613449e-02  6.35115504e-02\n",
      " -2.11860370e-02 -8.93065985e-03 -2.30615903e-02 -4.46998216e-02\n",
      "  1.23700919e-02  4.33530994e-02 -4.16500270e-02 -3.93964611e-02\n",
      " -1.16393082e-02  2.82307924e-03 -8.87889124e-04  8.65104795e-03\n",
      "  1.18674943e-02  5.78902243e-03 -1.58348046e-02  1.47267682e-02\n",
      " -3.21027599e-02 -5.48194349e-02 -8.19679350e-02  1.12828903e-01\n",
      "  4.34264019e-02 -3.24457767e-04  5.60020991e-02 -7.18716234e-02\n",
      " -9.66740074e-04 -4.66435887e-02  1.62828416e-02 -6.23897351e-02\n",
      "  3.21715176e-02  7.61769305e-04 -2.93775238e-02 -1.27633233e-02\n",
      " -5.14155850e-02 -1.71898622e-02  2.77402042e-03 -5.20684337e-03\n",
      "  2.40870435e-02  1.10562018e-03  4.16194648e-02 -1.23131629e-02\n",
      "  4.78922129e-02 -2.96219699e-02 -5.06241918e-02  7.60427117e-02\n",
      "  3.82439196e-02 -8.34798533e-03 -6.78211600e-02 -6.12434186e-02\n",
      " -3.11949048e-02 -2.79093813e-02 -4.69412133e-02 -1.58165209e-02\n",
      "  5.24052978e-03 -3.80284190e-02 -4.65711259e-04  1.54988943e-02\n",
      " -9.21835452e-02  1.40628479e-02  6.49630427e-02  5.51872626e-02\n",
      " -3.45287472e-03 -6.14259765e-02  5.16296253e-02 -3.93315703e-02\n",
      " -8.68818536e-02  1.21327373e-03  4.24066819e-02  3.56440879e-02\n",
      " -2.72499658e-02  8.08909070e-03 -3.06673422e-02 -4.18829471e-02\n",
      " -1.16269244e-02 -1.45546207e-02 -4.08299267e-03  2.26776898e-02\n",
      " -2.45818347e-02 -3.65711823e-02 -1.81010440e-02 -2.13631447e-02\n",
      "  5.38893305e-02  1.38539411e-02  9.55640152e-03  2.50812918e-02\n",
      " -4.35688496e-02 -3.59364189e-02  2.26065777e-02  2.02244192e-01\n",
      " -6.34297431e-02 -6.78727850e-02  1.82273500e-02 -4.28994969e-02\n",
      " -1.38112083e-02  2.01480519e-02 -7.30867833e-02  7.57348463e-02\n",
      " -8.83870870e-02 -3.86345536e-02  9.50264856e-02 -3.81261692e-03\n",
      "  4.71342131e-02  8.05387944e-02 -5.45169413e-02 -1.92950703e-02\n",
      " -2.20331661e-02  1.27857728e-02  3.63000929e-02 -1.12920171e-02\n",
      " -9.38228611e-03  2.36117896e-02  2.21067499e-02 -2.66298074e-02\n",
      "  2.10969020e-02 -5.03701456e-02  4.85196784e-02  2.45968495e-02\n",
      " -1.10362992e-02  1.61570031e-02  2.31063198e-02 -2.14764514e-04\n",
      " -2.34700013e-02 -2.67367568e-02  5.09298556e-02  7.11214310e-03\n",
      " -7.84504972e-03 -2.64426530e-03 -4.63357568e-02  5.81947900e-02\n",
      "  9.97662246e-02 -1.59531366e-02 -8.00685678e-03  3.61463195e-03\n",
      " -1.63536407e-02  5.57121150e-02 -4.10634689e-02  1.09946635e-02\n",
      "  3.46885510e-02  2.89718695e-02 -1.81035679e-02 -4.68320772e-02\n",
      "  1.73050482e-02  3.41503434e-02 -3.51609886e-02 -3.76305655e-02\n",
      "  8.65380317e-02  3.28550972e-02 -1.29378671e-02  5.09663299e-02\n",
      "  6.98211836e-03  4.90822941e-02 -3.97524126e-02  1.48056657e-03\n",
      " -3.15709412e-02  9.74747352e-04 -2.80326996e-02  2.25301851e-02\n",
      "  1.47123281e-02  7.61837959e-02  5.64023219e-02 -3.14024463e-02\n",
      "  6.52284324e-02 -4.75822352e-02  2.17453875e-02 -1.63825005e-02\n",
      "  1.29071707e-02  1.04023498e-02 -1.07881268e-02  6.26745448e-02\n",
      " -9.04633477e-02  4.90821637e-02 -1.71752274e-02 -1.64263491e-02\n",
      "  6.83515817e-02  3.91591573e-03  1.18972994e-01  4.32613306e-02\n",
      "  1.84567142e-02  2.22991128e-02  5.37694842e-02  1.99912097e-02\n",
      "  7.14292051e-03 -2.86734244e-03  4.90626879e-02 -5.69633348e-03\n",
      "  6.86543062e-02  4.59405035e-02  1.02985632e-02 -5.34563744e-03\n",
      " -2.95966994e-02  7.99430162e-03  1.27888545e-02 -5.37201241e-02\n",
      "  1.81245320e-02  2.57496722e-02 -1.89625714e-02  7.91566819e-02\n",
      " -4.15767618e-02 -5.78254871e-02  1.68161504e-02  3.75755541e-02\n",
      "  7.51175743e-04 -4.88666864e-03 -1.56385563e-02  8.29683468e-02\n",
      "  3.18184216e-03  4.47160527e-02  5.26073063e-03  5.56284934e-02\n",
      "  4.46690917e-02  9.77739319e-03  4.73278612e-02  2.86045787e-03\n",
      "  7.94131681e-03 -8.22198987e-02  1.90485083e-02 -1.76693257e-02\n",
      "  3.55570577e-02 -4.19651493e-02  3.03782746e-02 -7.41139501e-02\n",
      "  4.96156923e-02 -3.41565907e-02  1.26911085e-02 -5.20918402e-04\n",
      "  1.21631380e-02  3.84747870e-02 -4.63092327e-02 -5.65705001e-02\n",
      " -4.96127196e-02 -3.65598761e-02  2.52398644e-02 -2.73765232e-02\n",
      "  3.11020575e-02  3.55310924e-02  3.18699479e-02  6.07235059e-02\n",
      " -6.87281638e-02 -3.26611288e-03  3.82278599e-02 -2.39018779e-02\n",
      " -1.31918900e-02 -8.86076037e-03  2.37617400e-02 -2.58798562e-02\n",
      "  1.32489400e-02  6.21171929e-02 -2.15442237e-02  5.09235524e-02\n",
      "  3.32934130e-03  2.56313700e-02 -1.47496630e-02 -4.66905050e-02\n",
      "  5.69387078e-02 -3.72350812e-02  1.05189577e-01 -1.69447642e-02\n",
      "  4.01839353e-02  1.58795509e-02 -9.89818573e-03 -8.07069242e-02\n",
      " -5.25247008e-02  6.44672364e-02  4.43035439e-02 -8.85398500e-03\n",
      " -1.82263255e-02  1.00853480e-02  4.22000587e-02  2.16459204e-02\n",
      "  6.41008082e-04 -3.76766585e-02  8.04648846e-02  1.81932710e-02\n",
      " -1.15347877e-02 -3.98020111e-02 -2.40840334e-02  4.22364660e-02\n",
      " -7.10751815e-03  8.98734331e-02  7.02574998e-02  2.10636659e-04\n",
      "  2.65297834e-02 -3.07678413e-02  1.47922873e-03 -4.46427241e-02\n",
      "  8.40822048e-03  3.78725640e-02  7.29780411e-03  1.51620489e-02\n",
      " -4.62840274e-02 -2.67173890e-02  8.63958988e-03  1.10622738e-02\n",
      "  9.96471848e-04  1.20671159e-02 -1.02112386e-02 -5.28065078e-02\n",
      "  1.52934734e-02 -3.19163315e-02  7.58823892e-03  1.98089164e-02\n",
      " -3.56990732e-02 -2.54955944e-02  7.32604833e-03 -5.48380136e-04\n",
      "  7.81078916e-03  2.63155326e-02 -6.78286701e-02 -2.31989264e-03\n",
      "  3.93788479e-02 -1.69027634e-02  5.21021523e-02 -2.67580580e-02\n",
      "  2.06349529e-02  7.76256323e-02 -2.91121099e-02 -7.27380626e-03\n",
      " -2.32322495e-02  6.68329466e-03  2.23080534e-02  5.83595000e-02\n",
      "  4.04762104e-02 -7.56003289e-03  3.27249132e-02 -2.49308068e-03\n",
      " -1.20372377e-01  6.59887167e-03  3.56215499e-02 -1.54346945e-02\n",
      " -7.66099766e-02 -8.63452256e-02 -4.79243137e-03 -2.67025921e-02\n",
      "  1.28131853e-02  8.22898969e-02 -5.89144565e-02  4.44536693e-02\n",
      " -2.22261692e-03  3.37648578e-02  2.88794458e-01  1.36543196e-02\n",
      "  6.04678318e-02 -2.53084451e-02 -3.20961960e-02 -4.64256704e-02\n",
      "  7.78009817e-02  1.19069321e-02  1.17842527e-02 -6.04005605e-02\n",
      " -3.31403539e-02 -1.34669766e-02 -4.40716147e-02 -4.98849042e-02\n",
      "  2.48555616e-02  1.67857036e-02 -3.86060290e-02  1.85819298e-01\n",
      "  3.33209932e-02  4.65589277e-02 -7.84607977e-03  4.89845425e-02\n",
      "  3.66659500e-02  2.07467526e-02 -4.39098477e-02  2.61986982e-02\n",
      " -6.40363395e-02 -3.64140458e-02 -9.20472853e-03  5.60818799e-02\n",
      " -2.06552763e-02  1.13803279e-02 -2.53449939e-02 -4.94932309e-02], shape=(512,), dtype=float32)\n",
      "0.7018668055534363\n"
     ]
    }
   ],
   "source": [
    "restaurant1 = \"Mariuccio\"\n",
    "restaurant2 = \"L'Ortal\"\n",
    "\n",
    "# Embed the restaurant names\n",
    "embedding1 = embed_name(restaurant1)\n",
    "embedding2 = embed_name(restaurant2)\n",
    "\n",
    "# Compute similarity between the embeddings\n",
    "distance = 1 - np.inner(embedding1, embedding2)\n",
    "\n",
    "print(embedding1)\n",
    "print(distance)"
   ]
  },
  {
   "cell_type": "code",
   "execution_count": 14,
   "metadata": {},
   "outputs": [],
   "source": [
    "from minio import Minio\n",
    "\n",
    "URL = 'http://localhost:3000/restaurants/create-restaurant'\n",
    "\n",
    "client = Minio(\n",
    "    \"localhost:9002\",\n",
    "    access_key=\"rxSdZSDLIM5nJcr1\",\n",
    "    secret_key=\"ATjj0yffTeQqIAgVC7GcxONoNGT0l7hS\",\n",
    "    secure=False  # Otherwise bug\n",
    ")"
   ]
  },
  {
   "cell_type": "code",
   "execution_count": 18,
   "metadata": {},
   "outputs": [
    {
     "data": {
      "application/vnd.jupyter.widget-view+json": {
       "model_id": "ac3eade4d6a04648a0d731a8d1b4818e",
       "version_major": 2,
       "version_minor": 0
      },
      "text/plain": [
       "  0%|          | 0/223 [00:00<?, ?it/s]"
      ]
     },
     "metadata": {},
     "output_type": "display_data"
    },
    {
     "data": {
      "application/vnd.jupyter.widget-view+json": {
       "model_id": "ee43f413508243c091f63ec8477160ba",
       "version_major": 2,
       "version_minor": 0
      },
      "text/plain": [
       "Processing batch:   0%|          | 0/1000 [00:00<?, ?it/s]"
      ]
     },
     "metadata": {},
     "output_type": "display_data"
    },
    {
     "data": {
      "application/vnd.jupyter.widget-view+json": {
       "model_id": "10050774e621405e9635c00fe30aa0d4",
       "version_major": 2,
       "version_minor": 0
      },
      "text/plain": [
       "Processing batch:   0%|          | 0/1000 [00:00<?, ?it/s]"
      ]
     },
     "metadata": {},
     "output_type": "display_data"
    },
    {
     "data": {
      "application/vnd.jupyter.widget-view+json": {
       "model_id": "cb7be88ed04a45bd800f8081a0e3a28e",
       "version_major": 2,
       "version_minor": 0
      },
      "text/plain": [
       "Processing batch:   0%|          | 0/1000 [00:00<?, ?it/s]"
      ]
     },
     "metadata": {},
     "output_type": "display_data"
    },
    {
     "data": {
      "application/vnd.jupyter.widget-view+json": {
       "model_id": "7761afe366984342ada5c068e2d34f0a",
       "version_major": 2,
       "version_minor": 0
      },
      "text/plain": [
       "Processing batch:   0%|          | 0/1000 [00:00<?, ?it/s]"
      ]
     },
     "metadata": {},
     "output_type": "display_data"
    },
    {
     "data": {
      "application/vnd.jupyter.widget-view+json": {
       "model_id": "eaa77f2578614732b2c59f0c6da9ae89",
       "version_major": 2,
       "version_minor": 0
      },
      "text/plain": [
       "Processing batch:   0%|          | 0/1000 [00:00<?, ?it/s]"
      ]
     },
     "metadata": {},
     "output_type": "display_data"
    },
    {
     "data": {
      "application/vnd.jupyter.widget-view+json": {
       "model_id": "32d59b75cf424c7f8eb5e5d5ddbbd106",
       "version_major": 2,
       "version_minor": 0
      },
      "text/plain": [
       "Processing batch:   0%|          | 0/1000 [00:00<?, ?it/s]"
      ]
     },
     "metadata": {},
     "output_type": "display_data"
    },
    {
     "ename": "KeyboardInterrupt",
     "evalue": "",
     "output_type": "error",
     "traceback": [
      "\u001b[0;31m---------------------------------------------------------------------------\u001b[0m",
      "\u001b[0;31mKeyboardInterrupt\u001b[0m                         Traceback (most recent call last)",
      "Cell \u001b[0;32mIn[18], line 34\u001b[0m\n\u001b[1;32m     32\u001b[0m \u001b[39m# Process each batch\u001b[39;00m\n\u001b[1;32m     33\u001b[0m \u001b[39mfor\u001b[39;00m batch \u001b[39min\u001b[39;00m tqdm(batches):\n\u001b[0;32m---> 34\u001b[0m     insert_embeddings_batch(batch)\n",
      "Cell \u001b[0;32mIn[18], line 10\u001b[0m, in \u001b[0;36minsert_embeddings_batch\u001b[0;34m(batch)\u001b[0m\n\u001b[1;32m      8\u001b[0m object_names \u001b[39m=\u001b[39m []\n\u001b[1;32m      9\u001b[0m \u001b[39mfor\u001b[39;00m index, row \u001b[39min\u001b[39;00m tqdm(batch\u001b[39m.\u001b[39miterrows(), desc\u001b[39m=\u001b[39m\u001b[39m\"\u001b[39m\u001b[39mProcessing batch\u001b[39m\u001b[39m\"\u001b[39m, total\u001b[39m=\u001b[39m\u001b[39mlen\u001b[39m(batch)):\n\u001b[0;32m---> 10\u001b[0m     embedding \u001b[39m=\u001b[39m embed_name(row[\u001b[39m\"\u001b[39;49m\u001b[39mrestaurant_name\u001b[39;49m\u001b[39m\"\u001b[39;49m])\u001b[39m.\u001b[39mnumpy()\u001b[39m.\u001b[39mtolist()\n\u001b[1;32m     11\u001b[0m     embedding_str \u001b[39m=\u001b[39m json\u001b[39m.\u001b[39mdumps(embedding)\n\u001b[1;32m     12\u001b[0m     embedding_bytes \u001b[39m=\u001b[39m embedding_str\u001b[39m.\u001b[39mencode(\u001b[39m\"\u001b[39m\u001b[39mutf-8\u001b[39m\u001b[39m\"\u001b[39m)\n",
      "Cell \u001b[0;32mIn[12], line 8\u001b[0m, in \u001b[0;36membed_name\u001b[0;34m(name)\u001b[0m\n\u001b[1;32m      7\u001b[0m \u001b[39mdef\u001b[39;00m \u001b[39membed_name\u001b[39m(name):\n\u001b[0;32m----> 8\u001b[0m     embeddings \u001b[39m=\u001b[39m use_model([name])\n\u001b[1;32m      9\u001b[0m     \u001b[39mreturn\u001b[39;00m embeddings[\u001b[39m0\u001b[39m]\n",
      "File \u001b[0;32m~/miniconda3/lib/python3.9/site-packages/tensorflow/python/saved_model/load.py:732\u001b[0m, in \u001b[0;36m_call_attribute\u001b[0;34m(instance, *args, **kwargs)\u001b[0m\n\u001b[1;32m    731\u001b[0m \u001b[39mdef\u001b[39;00m \u001b[39m_call_attribute\u001b[39m(instance, \u001b[39m*\u001b[39margs, \u001b[39m*\u001b[39m\u001b[39m*\u001b[39mkwargs):\n\u001b[0;32m--> 732\u001b[0m   \u001b[39mreturn\u001b[39;00m instance\u001b[39m.\u001b[39;49m\u001b[39m__call__\u001b[39;49m(\u001b[39m*\u001b[39;49margs, \u001b[39m*\u001b[39;49m\u001b[39m*\u001b[39;49mkwargs)\n",
      "File \u001b[0;32m~/miniconda3/lib/python3.9/site-packages/tensorflow/python/util/traceback_utils.py:150\u001b[0m, in \u001b[0;36mfilter_traceback.<locals>.error_handler\u001b[0;34m(*args, **kwargs)\u001b[0m\n\u001b[1;32m    148\u001b[0m filtered_tb \u001b[39m=\u001b[39m \u001b[39mNone\u001b[39;00m\n\u001b[1;32m    149\u001b[0m \u001b[39mtry\u001b[39;00m:\n\u001b[0;32m--> 150\u001b[0m   \u001b[39mreturn\u001b[39;00m fn(\u001b[39m*\u001b[39;49margs, \u001b[39m*\u001b[39;49m\u001b[39m*\u001b[39;49mkwargs)\n\u001b[1;32m    151\u001b[0m \u001b[39mexcept\u001b[39;00m \u001b[39mException\u001b[39;00m \u001b[39mas\u001b[39;00m e:\n\u001b[1;32m    152\u001b[0m   filtered_tb \u001b[39m=\u001b[39m _process_traceback_frames(e\u001b[39m.\u001b[39m__traceback__)\n",
      "File \u001b[0;32m~/miniconda3/lib/python3.9/site-packages/tensorflow/python/eager/polymorphic_function/polymorphic_function.py:880\u001b[0m, in \u001b[0;36mFunction.__call__\u001b[0;34m(self, *args, **kwds)\u001b[0m\n\u001b[1;32m    877\u001b[0m compiler \u001b[39m=\u001b[39m \u001b[39m\"\u001b[39m\u001b[39mxla\u001b[39m\u001b[39m\"\u001b[39m \u001b[39mif\u001b[39;00m \u001b[39mself\u001b[39m\u001b[39m.\u001b[39m_jit_compile \u001b[39melse\u001b[39;00m \u001b[39m\"\u001b[39m\u001b[39mnonXla\u001b[39m\u001b[39m\"\u001b[39m\n\u001b[1;32m    879\u001b[0m \u001b[39mwith\u001b[39;00m OptionalXlaContext(\u001b[39mself\u001b[39m\u001b[39m.\u001b[39m_jit_compile):\n\u001b[0;32m--> 880\u001b[0m   result \u001b[39m=\u001b[39m \u001b[39mself\u001b[39;49m\u001b[39m.\u001b[39;49m_call(\u001b[39m*\u001b[39;49margs, \u001b[39m*\u001b[39;49m\u001b[39m*\u001b[39;49mkwds)\n\u001b[1;32m    882\u001b[0m new_tracing_count \u001b[39m=\u001b[39m \u001b[39mself\u001b[39m\u001b[39m.\u001b[39mexperimental_get_tracing_count()\n\u001b[1;32m    883\u001b[0m without_tracing \u001b[39m=\u001b[39m (tracing_count \u001b[39m==\u001b[39m new_tracing_count)\n",
      "File \u001b[0;32m~/miniconda3/lib/python3.9/site-packages/tensorflow/python/eager/polymorphic_function/polymorphic_function.py:919\u001b[0m, in \u001b[0;36mFunction._call\u001b[0;34m(self, *args, **kwds)\u001b[0m\n\u001b[1;32m    916\u001b[0m \u001b[39mself\u001b[39m\u001b[39m.\u001b[39m_lock\u001b[39m.\u001b[39mrelease()\n\u001b[1;32m    917\u001b[0m \u001b[39m# In this case we have not created variables on the first call. So we can\u001b[39;00m\n\u001b[1;32m    918\u001b[0m \u001b[39m# run the first trace but we should fail if variables are created.\u001b[39;00m\n\u001b[0;32m--> 919\u001b[0m results \u001b[39m=\u001b[39m \u001b[39mself\u001b[39;49m\u001b[39m.\u001b[39;49m_variable_creation_fn(\u001b[39m*\u001b[39;49margs, \u001b[39m*\u001b[39;49m\u001b[39m*\u001b[39;49mkwds)\n\u001b[1;32m    920\u001b[0m \u001b[39mif\u001b[39;00m \u001b[39mself\u001b[39m\u001b[39m.\u001b[39m_created_variables \u001b[39mand\u001b[39;00m \u001b[39mnot\u001b[39;00m ALLOW_DYNAMIC_VARIABLE_CREATION:\n\u001b[1;32m    921\u001b[0m   \u001b[39mraise\u001b[39;00m \u001b[39mValueError\u001b[39;00m(\u001b[39m\"\u001b[39m\u001b[39mCreating variables on a non-first call to a function\u001b[39m\u001b[39m\"\u001b[39m\n\u001b[1;32m    922\u001b[0m                    \u001b[39m\"\u001b[39m\u001b[39m decorated with tf.function.\u001b[39m\u001b[39m\"\u001b[39m)\n",
      "File \u001b[0;32m~/miniconda3/lib/python3.9/site-packages/tensorflow/python/eager/polymorphic_function/tracing_compiler.py:134\u001b[0m, in \u001b[0;36mTracingCompiler.__call__\u001b[0;34m(self, *args, **kwargs)\u001b[0m\n\u001b[1;32m    131\u001b[0m \u001b[39mwith\u001b[39;00m \u001b[39mself\u001b[39m\u001b[39m.\u001b[39m_lock:\n\u001b[1;32m    132\u001b[0m   (concrete_function,\n\u001b[1;32m    133\u001b[0m    filtered_flat_args) \u001b[39m=\u001b[39m \u001b[39mself\u001b[39m\u001b[39m.\u001b[39m_maybe_define_function(args, kwargs)\n\u001b[0;32m--> 134\u001b[0m \u001b[39mreturn\u001b[39;00m concrete_function\u001b[39m.\u001b[39;49m_call_flat(\n\u001b[1;32m    135\u001b[0m     filtered_flat_args, captured_inputs\u001b[39m=\u001b[39;49mconcrete_function\u001b[39m.\u001b[39;49mcaptured_inputs)\n",
      "File \u001b[0;32m~/miniconda3/lib/python3.9/site-packages/tensorflow/python/eager/polymorphic_function/monomorphic_function.py:1745\u001b[0m, in \u001b[0;36mConcreteFunction._call_flat\u001b[0;34m(self, args, captured_inputs, cancellation_manager)\u001b[0m\n\u001b[1;32m   1741\u001b[0m possible_gradient_type \u001b[39m=\u001b[39m gradients_util\u001b[39m.\u001b[39mPossibleTapeGradientTypes(args)\n\u001b[1;32m   1742\u001b[0m \u001b[39mif\u001b[39;00m (possible_gradient_type \u001b[39m==\u001b[39m gradients_util\u001b[39m.\u001b[39mPOSSIBLE_GRADIENT_TYPES_NONE\n\u001b[1;32m   1743\u001b[0m     \u001b[39mand\u001b[39;00m executing_eagerly):\n\u001b[1;32m   1744\u001b[0m   \u001b[39m# No tape is watching; skip to running the function.\u001b[39;00m\n\u001b[0;32m-> 1745\u001b[0m   \u001b[39mreturn\u001b[39;00m \u001b[39mself\u001b[39m\u001b[39m.\u001b[39m_build_call_outputs(\u001b[39mself\u001b[39;49m\u001b[39m.\u001b[39;49m_inference_function\u001b[39m.\u001b[39;49mcall(\n\u001b[1;32m   1746\u001b[0m       ctx, args, cancellation_manager\u001b[39m=\u001b[39;49mcancellation_manager))\n\u001b[1;32m   1747\u001b[0m forward_backward \u001b[39m=\u001b[39m \u001b[39mself\u001b[39m\u001b[39m.\u001b[39m_select_forward_and_backward_functions(\n\u001b[1;32m   1748\u001b[0m     args,\n\u001b[1;32m   1749\u001b[0m     possible_gradient_type,\n\u001b[1;32m   1750\u001b[0m     executing_eagerly)\n\u001b[1;32m   1751\u001b[0m forward_function, args_with_tangents \u001b[39m=\u001b[39m forward_backward\u001b[39m.\u001b[39mforward()\n",
      "File \u001b[0;32m~/miniconda3/lib/python3.9/site-packages/tensorflow/python/eager/polymorphic_function/monomorphic_function.py:378\u001b[0m, in \u001b[0;36m_EagerDefinedFunction.call\u001b[0;34m(self, ctx, args, cancellation_manager)\u001b[0m\n\u001b[1;32m    376\u001b[0m \u001b[39mwith\u001b[39;00m _InterpolateFunctionError(\u001b[39mself\u001b[39m):\n\u001b[1;32m    377\u001b[0m   \u001b[39mif\u001b[39;00m cancellation_manager \u001b[39mis\u001b[39;00m \u001b[39mNone\u001b[39;00m:\n\u001b[0;32m--> 378\u001b[0m     outputs \u001b[39m=\u001b[39m execute\u001b[39m.\u001b[39;49mexecute(\n\u001b[1;32m    379\u001b[0m         \u001b[39mstr\u001b[39;49m(\u001b[39mself\u001b[39;49m\u001b[39m.\u001b[39;49msignature\u001b[39m.\u001b[39;49mname),\n\u001b[1;32m    380\u001b[0m         num_outputs\u001b[39m=\u001b[39;49m\u001b[39mself\u001b[39;49m\u001b[39m.\u001b[39;49m_num_outputs,\n\u001b[1;32m    381\u001b[0m         inputs\u001b[39m=\u001b[39;49margs,\n\u001b[1;32m    382\u001b[0m         attrs\u001b[39m=\u001b[39;49mattrs,\n\u001b[1;32m    383\u001b[0m         ctx\u001b[39m=\u001b[39;49mctx)\n\u001b[1;32m    384\u001b[0m   \u001b[39melse\u001b[39;00m:\n\u001b[1;32m    385\u001b[0m     outputs \u001b[39m=\u001b[39m execute\u001b[39m.\u001b[39mexecute_with_cancellation(\n\u001b[1;32m    386\u001b[0m         \u001b[39mstr\u001b[39m(\u001b[39mself\u001b[39m\u001b[39m.\u001b[39msignature\u001b[39m.\u001b[39mname),\n\u001b[1;32m    387\u001b[0m         num_outputs\u001b[39m=\u001b[39m\u001b[39mself\u001b[39m\u001b[39m.\u001b[39m_num_outputs,\n\u001b[0;32m   (...)\u001b[0m\n\u001b[1;32m    390\u001b[0m         ctx\u001b[39m=\u001b[39mctx,\n\u001b[1;32m    391\u001b[0m         cancellation_manager\u001b[39m=\u001b[39mcancellation_manager)\n",
      "File \u001b[0;32m~/miniconda3/lib/python3.9/site-packages/tensorflow/python/eager/execute.py:52\u001b[0m, in \u001b[0;36mquick_execute\u001b[0;34m(op_name, num_outputs, inputs, attrs, ctx, name)\u001b[0m\n\u001b[1;32m     50\u001b[0m \u001b[39mtry\u001b[39;00m:\n\u001b[1;32m     51\u001b[0m   ctx\u001b[39m.\u001b[39mensure_initialized()\n\u001b[0;32m---> 52\u001b[0m   tensors \u001b[39m=\u001b[39m pywrap_tfe\u001b[39m.\u001b[39;49mTFE_Py_Execute(ctx\u001b[39m.\u001b[39;49m_handle, device_name, op_name,\n\u001b[1;32m     53\u001b[0m                                       inputs, attrs, num_outputs)\n\u001b[1;32m     54\u001b[0m \u001b[39mexcept\u001b[39;00m core\u001b[39m.\u001b[39m_NotOkStatusException \u001b[39mas\u001b[39;00m e:\n\u001b[1;32m     55\u001b[0m   \u001b[39mif\u001b[39;00m name \u001b[39mis\u001b[39;00m \u001b[39mnot\u001b[39;00m \u001b[39mNone\u001b[39;00m:\n",
      "\u001b[0;31mKeyboardInterrupt\u001b[0m: "
     ]
    }
   ],
   "source": [
    "import json\n",
    "import io\n",
    "\n",
    "def insert_embeddings_batch(batch):\n",
    "    BUCKET_NAME = \"embeddings\"\n",
    "    objects = []\n",
    "    lengths = []\n",
    "    object_names = []\n",
    "    for index, row in tqdm(batch.iterrows(), desc=\"Processing batch\", total=len(batch)):\n",
    "        embedding = embed_name(row[\"restaurant_name\"]).numpy().tolist()\n",
    "        embedding_str = json.dumps(embedding)\n",
    "        embedding_bytes = embedding_str.encode(\"utf-8\")\n",
    "        objects.append(io.BytesIO(embedding_bytes))\n",
    "        lengths.append(len(embedding_bytes))\n",
    "        object_names.append(f\"embedding_{row['index']}\")\n",
    "\n",
    "    for obj_name, obj, length in zip(object_names, objects, lengths):\n",
    "        client.put_object(\n",
    "            BUCKET_NAME,\n",
    "            obj_name,\n",
    "            obj,\n",
    "            length\n",
    "        )\n",
    "\n",
    "BATCH_SIZE = 1000  # Define your batch size\n",
    "\n",
    "tqdm.pandas()\n",
    "\n",
    "# Split the dataframe into batches\n",
    "batches = [df[i:i+BATCH_SIZE] for i in range(0, len(df), BATCH_SIZE)]\n",
    "\n",
    "# Process each batch\n",
    "for batch in tqdm(batches):\n",
    "    insert_embeddings_batch(batch)\n"
   ]
  },
  {
   "cell_type": "code",
   "execution_count": 22,
   "metadata": {},
   "outputs": [
    {
     "data": {
      "application/vnd.jupyter.widget-view+json": {
       "model_id": "05011f9a8d464ddd9e56850be8754463",
       "version_major": 2,
       "version_minor": 0
      },
      "text/plain": [
       "  0%|          | 0/222603 [00:00<?, ?it/s]"
      ]
     },
     "metadata": {},
     "output_type": "display_data"
    },
    {
     "ename": "KeyboardInterrupt",
     "evalue": "",
     "output_type": "error",
     "traceback": [
      "\u001b[0;31m---------------------------------------------------------------------------\u001b[0m",
      "\u001b[0;31mKeyboardInterrupt\u001b[0m                         Traceback (most recent call last)",
      "Cell \u001b[0;32mIn[22], line 49\u001b[0m\n\u001b[1;32m     45\u001b[0m     client\u001b[39m.\u001b[39mput_object(\n\u001b[1;32m     46\u001b[0m             BUCKET_NAME, \u001b[39mf\u001b[39m\u001b[39m\"\u001b[39m\u001b[39membedding_\u001b[39m\u001b[39m{\u001b[39;00mrow[\u001b[39m'\u001b[39m\u001b[39mindex\u001b[39m\u001b[39m'\u001b[39m]\u001b[39m}\u001b[39;00m\u001b[39m\"\u001b[39m, io\u001b[39m.\u001b[39mBytesIO(embedding_bytes), length\u001b[39m=\u001b[39m\u001b[39mlen\u001b[39m(embedding_bytes))\n\u001b[1;32m     48\u001b[0m tqdm\u001b[39m.\u001b[39mpandas()\n\u001b[0;32m---> 49\u001b[0m df\u001b[39m.\u001b[39;49mprogress_apply(create_restaurant, axis\u001b[39m=\u001b[39;49m\u001b[39m1\u001b[39;49m)\n\u001b[1;32m     50\u001b[0m \u001b[39m# df.progress_apply(insert_embeddings, axis=1)\u001b[39;00m\n",
      "File \u001b[0;32m~/miniconda3/lib/python3.9/site-packages/tqdm/std.py:814\u001b[0m, in \u001b[0;36mtqdm.pandas.<locals>.inner_generator.<locals>.inner\u001b[0;34m(df, func, *args, **kwargs)\u001b[0m\n\u001b[1;32m    811\u001b[0m \u001b[39m# Apply the provided function (in **kwargs)\u001b[39;00m\n\u001b[1;32m    812\u001b[0m \u001b[39m# on the df using our wrapper (which provides bar updating)\u001b[39;00m\n\u001b[1;32m    813\u001b[0m \u001b[39mtry\u001b[39;00m:\n\u001b[0;32m--> 814\u001b[0m     \u001b[39mreturn\u001b[39;00m \u001b[39mgetattr\u001b[39;49m(df, df_function)(wrapper, \u001b[39m*\u001b[39;49m\u001b[39m*\u001b[39;49mkwargs)\n\u001b[1;32m    815\u001b[0m \u001b[39mfinally\u001b[39;00m:\n\u001b[1;32m    816\u001b[0m     t\u001b[39m.\u001b[39mclose()\n",
      "File \u001b[0;32m~/miniconda3/lib/python3.9/site-packages/pandas/core/frame.py:9565\u001b[0m, in \u001b[0;36mDataFrame.apply\u001b[0;34m(self, func, axis, raw, result_type, args, **kwargs)\u001b[0m\n\u001b[1;32m   9554\u001b[0m \u001b[39mfrom\u001b[39;00m \u001b[39mpandas\u001b[39;00m\u001b[39m.\u001b[39;00m\u001b[39mcore\u001b[39;00m\u001b[39m.\u001b[39;00m\u001b[39mapply\u001b[39;00m \u001b[39mimport\u001b[39;00m frame_apply\n\u001b[1;32m   9556\u001b[0m op \u001b[39m=\u001b[39m frame_apply(\n\u001b[1;32m   9557\u001b[0m     \u001b[39mself\u001b[39m,\n\u001b[1;32m   9558\u001b[0m     func\u001b[39m=\u001b[39mfunc,\n\u001b[0;32m   (...)\u001b[0m\n\u001b[1;32m   9563\u001b[0m     kwargs\u001b[39m=\u001b[39mkwargs,\n\u001b[1;32m   9564\u001b[0m )\n\u001b[0;32m-> 9565\u001b[0m \u001b[39mreturn\u001b[39;00m op\u001b[39m.\u001b[39;49mapply()\u001b[39m.\u001b[39m__finalize__(\u001b[39mself\u001b[39m, method\u001b[39m=\u001b[39m\u001b[39m\"\u001b[39m\u001b[39mapply\u001b[39m\u001b[39m\"\u001b[39m)\n",
      "File \u001b[0;32m~/miniconda3/lib/python3.9/site-packages/pandas/core/apply.py:746\u001b[0m, in \u001b[0;36mFrameApply.apply\u001b[0;34m(self)\u001b[0m\n\u001b[1;32m    743\u001b[0m \u001b[39melif\u001b[39;00m \u001b[39mself\u001b[39m\u001b[39m.\u001b[39mraw:\n\u001b[1;32m    744\u001b[0m     \u001b[39mreturn\u001b[39;00m \u001b[39mself\u001b[39m\u001b[39m.\u001b[39mapply_raw()\n\u001b[0;32m--> 746\u001b[0m \u001b[39mreturn\u001b[39;00m \u001b[39mself\u001b[39;49m\u001b[39m.\u001b[39;49mapply_standard()\n",
      "File \u001b[0;32m~/miniconda3/lib/python3.9/site-packages/pandas/core/apply.py:873\u001b[0m, in \u001b[0;36mFrameApply.apply_standard\u001b[0;34m(self)\u001b[0m\n\u001b[1;32m    872\u001b[0m \u001b[39mdef\u001b[39;00m \u001b[39mapply_standard\u001b[39m(\u001b[39mself\u001b[39m):\n\u001b[0;32m--> 873\u001b[0m     results, res_index \u001b[39m=\u001b[39m \u001b[39mself\u001b[39;49m\u001b[39m.\u001b[39;49mapply_series_generator()\n\u001b[1;32m    875\u001b[0m     \u001b[39m# wrap results\u001b[39;00m\n\u001b[1;32m    876\u001b[0m     \u001b[39mreturn\u001b[39;00m \u001b[39mself\u001b[39m\u001b[39m.\u001b[39mwrap_results(results, res_index)\n",
      "File \u001b[0;32m~/miniconda3/lib/python3.9/site-packages/pandas/core/apply.py:889\u001b[0m, in \u001b[0;36mFrameApply.apply_series_generator\u001b[0;34m(self)\u001b[0m\n\u001b[1;32m    886\u001b[0m \u001b[39mwith\u001b[39;00m option_context(\u001b[39m\"\u001b[39m\u001b[39mmode.chained_assignment\u001b[39m\u001b[39m\"\u001b[39m, \u001b[39mNone\u001b[39;00m):\n\u001b[1;32m    887\u001b[0m     \u001b[39mfor\u001b[39;00m i, v \u001b[39min\u001b[39;00m \u001b[39menumerate\u001b[39m(series_gen):\n\u001b[1;32m    888\u001b[0m         \u001b[39m# ignore SettingWithCopy here in case the user mutates\u001b[39;00m\n\u001b[0;32m--> 889\u001b[0m         results[i] \u001b[39m=\u001b[39m \u001b[39mself\u001b[39;49m\u001b[39m.\u001b[39;49mf(v)\n\u001b[1;32m    890\u001b[0m         \u001b[39mif\u001b[39;00m \u001b[39misinstance\u001b[39m(results[i], ABCSeries):\n\u001b[1;32m    891\u001b[0m             \u001b[39m# If we have a view on v, we need to make a copy because\u001b[39;00m\n\u001b[1;32m    892\u001b[0m             \u001b[39m#  series_generator will swap out the underlying data\u001b[39;00m\n\u001b[1;32m    893\u001b[0m             results[i] \u001b[39m=\u001b[39m results[i]\u001b[39m.\u001b[39mcopy(deep\u001b[39m=\u001b[39m\u001b[39mFalse\u001b[39;00m)\n",
      "File \u001b[0;32m~/miniconda3/lib/python3.9/site-packages/tqdm/std.py:809\u001b[0m, in \u001b[0;36mtqdm.pandas.<locals>.inner_generator.<locals>.inner.<locals>.wrapper\u001b[0;34m(*args, **kwargs)\u001b[0m\n\u001b[1;32m    803\u001b[0m \u001b[39mdef\u001b[39;00m \u001b[39mwrapper\u001b[39m(\u001b[39m*\u001b[39margs, \u001b[39m*\u001b[39m\u001b[39m*\u001b[39mkwargs):\n\u001b[1;32m    804\u001b[0m     \u001b[39m# update tbar correctly\u001b[39;00m\n\u001b[1;32m    805\u001b[0m     \u001b[39m# it seems `pandas apply` calls `func` twice\u001b[39;00m\n\u001b[1;32m    806\u001b[0m     \u001b[39m# on the first column/row to decide whether it can\u001b[39;00m\n\u001b[1;32m    807\u001b[0m     \u001b[39m# take a fast or slow code path; so stop when t.total==t.n\u001b[39;00m\n\u001b[1;32m    808\u001b[0m     t\u001b[39m.\u001b[39mupdate(n\u001b[39m=\u001b[39m\u001b[39m1\u001b[39m \u001b[39mif\u001b[39;00m \u001b[39mnot\u001b[39;00m t\u001b[39m.\u001b[39mtotal \u001b[39mor\u001b[39;00m t\u001b[39m.\u001b[39mn \u001b[39m<\u001b[39m t\u001b[39m.\u001b[39mtotal \u001b[39melse\u001b[39;00m \u001b[39m0\u001b[39m)\n\u001b[0;32m--> 809\u001b[0m     \u001b[39mreturn\u001b[39;00m func(\u001b[39m*\u001b[39;49margs, \u001b[39m*\u001b[39;49m\u001b[39m*\u001b[39;49mkwargs)\n",
      "Cell \u001b[0;32mIn[22], line 36\u001b[0m, in \u001b[0;36mcreate_restaurant\u001b[0;34m(row)\u001b[0m\n\u001b[1;32m     11\u001b[0m \u001b[39mdef\u001b[39;00m \u001b[39mcreate_restaurant\u001b[39m(row):\n\u001b[1;32m     12\u001b[0m     body \u001b[39m=\u001b[39m {\n\u001b[1;32m     13\u001b[0m             \u001b[39m\"\u001b[39m\u001b[39mname\u001b[39m\u001b[39m\"\u001b[39m: row[\u001b[39m\"\u001b[39m\u001b[39mrestaurant_name\u001b[39m\u001b[39m\"\u001b[39m],\n\u001b[1;32m     14\u001b[0m             \u001b[39m\"\u001b[39m\u001b[39membeddingName\u001b[39m\u001b[39m\"\u001b[39m: \u001b[39mf\u001b[39m\u001b[39m\"\u001b[39m\u001b[39membedding_\u001b[39m\u001b[39m{\u001b[39;00m(row[\u001b[39m'\u001b[39m\u001b[39mindex\u001b[39m\u001b[39m'\u001b[39m])\u001b[39m}\u001b[39;00m\u001b[39m\"\u001b[39m,\n\u001b[0;32m   (...)\u001b[0m\n\u001b[1;32m     32\u001b[0m             \u001b[39m\"\u001b[39m\u001b[39mreviewsNumber\u001b[39m\u001b[39m\"\u001b[39m: \u001b[39mint\u001b[39m(row[\u001b[39m\"\u001b[39m\u001b[39mtotal_reviews_count\u001b[39m\u001b[39m\"\u001b[39m])\n\u001b[1;32m     33\u001b[0m         }\n\u001b[0;32m---> 36\u001b[0m     result \u001b[39m=\u001b[39m requests\u001b[39m.\u001b[39;49mpost(URL, json\u001b[39m=\u001b[39;49mbody)\n",
      "File \u001b[0;32m~/miniconda3/lib/python3.9/site-packages/requests/api.py:117\u001b[0m, in \u001b[0;36mpost\u001b[0;34m(url, data, json, **kwargs)\u001b[0m\n\u001b[1;32m    105\u001b[0m \u001b[39mdef\u001b[39;00m \u001b[39mpost\u001b[39m(url, data\u001b[39m=\u001b[39m\u001b[39mNone\u001b[39;00m, json\u001b[39m=\u001b[39m\u001b[39mNone\u001b[39;00m, \u001b[39m*\u001b[39m\u001b[39m*\u001b[39mkwargs):\n\u001b[1;32m    106\u001b[0m \u001b[39m    \u001b[39m\u001b[39mr\u001b[39m\u001b[39m\"\"\"Sends a POST request.\u001b[39;00m\n\u001b[1;32m    107\u001b[0m \n\u001b[1;32m    108\u001b[0m \u001b[39m    :param url: URL for the new :class:`Request` object.\u001b[39;00m\n\u001b[0;32m   (...)\u001b[0m\n\u001b[1;32m    114\u001b[0m \u001b[39m    :rtype: requests.Response\u001b[39;00m\n\u001b[1;32m    115\u001b[0m \u001b[39m    \"\"\"\u001b[39;00m\n\u001b[0;32m--> 117\u001b[0m     \u001b[39mreturn\u001b[39;00m request(\u001b[39m'\u001b[39;49m\u001b[39mpost\u001b[39;49m\u001b[39m'\u001b[39;49m, url, data\u001b[39m=\u001b[39;49mdata, json\u001b[39m=\u001b[39;49mjson, \u001b[39m*\u001b[39;49m\u001b[39m*\u001b[39;49mkwargs)\n",
      "File \u001b[0;32m~/miniconda3/lib/python3.9/site-packages/requests/api.py:61\u001b[0m, in \u001b[0;36mrequest\u001b[0;34m(method, url, **kwargs)\u001b[0m\n\u001b[1;32m     57\u001b[0m \u001b[39m# By using the 'with' statement we are sure the session is closed, thus we\u001b[39;00m\n\u001b[1;32m     58\u001b[0m \u001b[39m# avoid leaving sockets open which can trigger a ResourceWarning in some\u001b[39;00m\n\u001b[1;32m     59\u001b[0m \u001b[39m# cases, and look like a memory leak in others.\u001b[39;00m\n\u001b[1;32m     60\u001b[0m \u001b[39mwith\u001b[39;00m sessions\u001b[39m.\u001b[39mSession() \u001b[39mas\u001b[39;00m session:\n\u001b[0;32m---> 61\u001b[0m     \u001b[39mreturn\u001b[39;00m session\u001b[39m.\u001b[39;49mrequest(method\u001b[39m=\u001b[39;49mmethod, url\u001b[39m=\u001b[39;49murl, \u001b[39m*\u001b[39;49m\u001b[39m*\u001b[39;49mkwargs)\n",
      "File \u001b[0;32m~/miniconda3/lib/python3.9/site-packages/requests/sessions.py:529\u001b[0m, in \u001b[0;36mSession.request\u001b[0;34m(self, method, url, params, data, headers, cookies, files, auth, timeout, allow_redirects, proxies, hooks, stream, verify, cert, json)\u001b[0m\n\u001b[1;32m    524\u001b[0m send_kwargs \u001b[39m=\u001b[39m {\n\u001b[1;32m    525\u001b[0m     \u001b[39m'\u001b[39m\u001b[39mtimeout\u001b[39m\u001b[39m'\u001b[39m: timeout,\n\u001b[1;32m    526\u001b[0m     \u001b[39m'\u001b[39m\u001b[39mallow_redirects\u001b[39m\u001b[39m'\u001b[39m: allow_redirects,\n\u001b[1;32m    527\u001b[0m }\n\u001b[1;32m    528\u001b[0m send_kwargs\u001b[39m.\u001b[39mupdate(settings)\n\u001b[0;32m--> 529\u001b[0m resp \u001b[39m=\u001b[39m \u001b[39mself\u001b[39;49m\u001b[39m.\u001b[39;49msend(prep, \u001b[39m*\u001b[39;49m\u001b[39m*\u001b[39;49msend_kwargs)\n\u001b[1;32m    531\u001b[0m \u001b[39mreturn\u001b[39;00m resp\n",
      "File \u001b[0;32m~/miniconda3/lib/python3.9/site-packages/requests/sessions.py:645\u001b[0m, in \u001b[0;36mSession.send\u001b[0;34m(self, request, **kwargs)\u001b[0m\n\u001b[1;32m    642\u001b[0m start \u001b[39m=\u001b[39m preferred_clock()\n\u001b[1;32m    644\u001b[0m \u001b[39m# Send the request\u001b[39;00m\n\u001b[0;32m--> 645\u001b[0m r \u001b[39m=\u001b[39m adapter\u001b[39m.\u001b[39;49msend(request, \u001b[39m*\u001b[39;49m\u001b[39m*\u001b[39;49mkwargs)\n\u001b[1;32m    647\u001b[0m \u001b[39m# Total elapsed time of the request (approximately)\u001b[39;00m\n\u001b[1;32m    648\u001b[0m elapsed \u001b[39m=\u001b[39m preferred_clock() \u001b[39m-\u001b[39m start\n",
      "File \u001b[0;32m~/miniconda3/lib/python3.9/site-packages/requests/adapters.py:440\u001b[0m, in \u001b[0;36mHTTPAdapter.send\u001b[0;34m(self, request, stream, timeout, verify, cert, proxies)\u001b[0m\n\u001b[1;32m    438\u001b[0m \u001b[39mtry\u001b[39;00m:\n\u001b[1;32m    439\u001b[0m     \u001b[39mif\u001b[39;00m \u001b[39mnot\u001b[39;00m chunked:\n\u001b[0;32m--> 440\u001b[0m         resp \u001b[39m=\u001b[39m conn\u001b[39m.\u001b[39;49murlopen(\n\u001b[1;32m    441\u001b[0m             method\u001b[39m=\u001b[39;49mrequest\u001b[39m.\u001b[39;49mmethod,\n\u001b[1;32m    442\u001b[0m             url\u001b[39m=\u001b[39;49murl,\n\u001b[1;32m    443\u001b[0m             body\u001b[39m=\u001b[39;49mrequest\u001b[39m.\u001b[39;49mbody,\n\u001b[1;32m    444\u001b[0m             headers\u001b[39m=\u001b[39;49mrequest\u001b[39m.\u001b[39;49mheaders,\n\u001b[1;32m    445\u001b[0m             redirect\u001b[39m=\u001b[39;49m\u001b[39mFalse\u001b[39;49;00m,\n\u001b[1;32m    446\u001b[0m             assert_same_host\u001b[39m=\u001b[39;49m\u001b[39mFalse\u001b[39;49;00m,\n\u001b[1;32m    447\u001b[0m             preload_content\u001b[39m=\u001b[39;49m\u001b[39mFalse\u001b[39;49;00m,\n\u001b[1;32m    448\u001b[0m             decode_content\u001b[39m=\u001b[39;49m\u001b[39mFalse\u001b[39;49;00m,\n\u001b[1;32m    449\u001b[0m             retries\u001b[39m=\u001b[39;49m\u001b[39mself\u001b[39;49m\u001b[39m.\u001b[39;49mmax_retries,\n\u001b[1;32m    450\u001b[0m             timeout\u001b[39m=\u001b[39;49mtimeout\n\u001b[1;32m    451\u001b[0m         )\n\u001b[1;32m    453\u001b[0m     \u001b[39m# Send the request.\u001b[39;00m\n\u001b[1;32m    454\u001b[0m     \u001b[39melse\u001b[39;00m:\n\u001b[1;32m    455\u001b[0m         \u001b[39mif\u001b[39;00m \u001b[39mhasattr\u001b[39m(conn, \u001b[39m'\u001b[39m\u001b[39mproxy_pool\u001b[39m\u001b[39m'\u001b[39m):\n",
      "File \u001b[0;32m~/miniconda3/lib/python3.9/site-packages/urllib3/connectionpool.py:699\u001b[0m, in \u001b[0;36mHTTPConnectionPool.urlopen\u001b[0;34m(self, method, url, body, headers, retries, redirect, assert_same_host, timeout, pool_timeout, release_conn, chunked, body_pos, **response_kw)\u001b[0m\n\u001b[1;32m    696\u001b[0m     \u001b[39mself\u001b[39m\u001b[39m.\u001b[39m_prepare_proxy(conn)\n\u001b[1;32m    698\u001b[0m \u001b[39m# Make the request on the httplib connection object.\u001b[39;00m\n\u001b[0;32m--> 699\u001b[0m httplib_response \u001b[39m=\u001b[39m \u001b[39mself\u001b[39;49m\u001b[39m.\u001b[39;49m_make_request(\n\u001b[1;32m    700\u001b[0m     conn,\n\u001b[1;32m    701\u001b[0m     method,\n\u001b[1;32m    702\u001b[0m     url,\n\u001b[1;32m    703\u001b[0m     timeout\u001b[39m=\u001b[39;49mtimeout_obj,\n\u001b[1;32m    704\u001b[0m     body\u001b[39m=\u001b[39;49mbody,\n\u001b[1;32m    705\u001b[0m     headers\u001b[39m=\u001b[39;49mheaders,\n\u001b[1;32m    706\u001b[0m     chunked\u001b[39m=\u001b[39;49mchunked,\n\u001b[1;32m    707\u001b[0m )\n\u001b[1;32m    709\u001b[0m \u001b[39m# If we're going to release the connection in ``finally:``, then\u001b[39;00m\n\u001b[1;32m    710\u001b[0m \u001b[39m# the response doesn't need to know about the connection. Otherwise\u001b[39;00m\n\u001b[1;32m    711\u001b[0m \u001b[39m# it will also try to release it and we'll have a double-release\u001b[39;00m\n\u001b[1;32m    712\u001b[0m \u001b[39m# mess.\u001b[39;00m\n\u001b[1;32m    713\u001b[0m response_conn \u001b[39m=\u001b[39m conn \u001b[39mif\u001b[39;00m \u001b[39mnot\u001b[39;00m release_conn \u001b[39melse\u001b[39;00m \u001b[39mNone\u001b[39;00m\n",
      "File \u001b[0;32m~/miniconda3/lib/python3.9/site-packages/urllib3/connectionpool.py:445\u001b[0m, in \u001b[0;36mHTTPConnectionPool._make_request\u001b[0;34m(self, conn, method, url, timeout, chunked, **httplib_request_kw)\u001b[0m\n\u001b[1;32m    440\u001b[0m             httplib_response \u001b[39m=\u001b[39m conn\u001b[39m.\u001b[39mgetresponse()\n\u001b[1;32m    441\u001b[0m         \u001b[39mexcept\u001b[39;00m \u001b[39mBaseException\u001b[39;00m \u001b[39mas\u001b[39;00m e:\n\u001b[1;32m    442\u001b[0m             \u001b[39m# Remove the TypeError from the exception chain in\u001b[39;00m\n\u001b[1;32m    443\u001b[0m             \u001b[39m# Python 3 (including for exceptions like SystemExit).\u001b[39;00m\n\u001b[1;32m    444\u001b[0m             \u001b[39m# Otherwise it looks like a bug in the code.\u001b[39;00m\n\u001b[0;32m--> 445\u001b[0m             six\u001b[39m.\u001b[39;49mraise_from(e, \u001b[39mNone\u001b[39;49;00m)\n\u001b[1;32m    446\u001b[0m \u001b[39mexcept\u001b[39;00m (SocketTimeout, BaseSSLError, SocketError) \u001b[39mas\u001b[39;00m e:\n\u001b[1;32m    447\u001b[0m     \u001b[39mself\u001b[39m\u001b[39m.\u001b[39m_raise_timeout(err\u001b[39m=\u001b[39me, url\u001b[39m=\u001b[39murl, timeout_value\u001b[39m=\u001b[39mread_timeout)\n",
      "File \u001b[0;32m<string>:3\u001b[0m, in \u001b[0;36mraise_from\u001b[0;34m(value, from_value)\u001b[0m\n",
      "File \u001b[0;32m~/miniconda3/lib/python3.9/site-packages/urllib3/connectionpool.py:440\u001b[0m, in \u001b[0;36mHTTPConnectionPool._make_request\u001b[0;34m(self, conn, method, url, timeout, chunked, **httplib_request_kw)\u001b[0m\n\u001b[1;32m    437\u001b[0m \u001b[39mexcept\u001b[39;00m \u001b[39mTypeError\u001b[39;00m:\n\u001b[1;32m    438\u001b[0m     \u001b[39m# Python 3\u001b[39;00m\n\u001b[1;32m    439\u001b[0m     \u001b[39mtry\u001b[39;00m:\n\u001b[0;32m--> 440\u001b[0m         httplib_response \u001b[39m=\u001b[39m conn\u001b[39m.\u001b[39;49mgetresponse()\n\u001b[1;32m    441\u001b[0m     \u001b[39mexcept\u001b[39;00m \u001b[39mBaseException\u001b[39;00m \u001b[39mas\u001b[39;00m e:\n\u001b[1;32m    442\u001b[0m         \u001b[39m# Remove the TypeError from the exception chain in\u001b[39;00m\n\u001b[1;32m    443\u001b[0m         \u001b[39m# Python 3 (including for exceptions like SystemExit).\u001b[39;00m\n\u001b[1;32m    444\u001b[0m         \u001b[39m# Otherwise it looks like a bug in the code.\u001b[39;00m\n\u001b[1;32m    445\u001b[0m         six\u001b[39m.\u001b[39mraise_from(e, \u001b[39mNone\u001b[39;00m)\n",
      "File \u001b[0;32m~/miniconda3/lib/python3.9/http/client.py:1377\u001b[0m, in \u001b[0;36mHTTPConnection.getresponse\u001b[0;34m(self)\u001b[0m\n\u001b[1;32m   1375\u001b[0m \u001b[39mtry\u001b[39;00m:\n\u001b[1;32m   1376\u001b[0m     \u001b[39mtry\u001b[39;00m:\n\u001b[0;32m-> 1377\u001b[0m         response\u001b[39m.\u001b[39;49mbegin()\n\u001b[1;32m   1378\u001b[0m     \u001b[39mexcept\u001b[39;00m \u001b[39mConnectionError\u001b[39;00m:\n\u001b[1;32m   1379\u001b[0m         \u001b[39mself\u001b[39m\u001b[39m.\u001b[39mclose()\n",
      "File \u001b[0;32m~/miniconda3/lib/python3.9/http/client.py:320\u001b[0m, in \u001b[0;36mHTTPResponse.begin\u001b[0;34m(self)\u001b[0m\n\u001b[1;32m    318\u001b[0m \u001b[39m# read until we get a non-100 response\u001b[39;00m\n\u001b[1;32m    319\u001b[0m \u001b[39mwhile\u001b[39;00m \u001b[39mTrue\u001b[39;00m:\n\u001b[0;32m--> 320\u001b[0m     version, status, reason \u001b[39m=\u001b[39m \u001b[39mself\u001b[39;49m\u001b[39m.\u001b[39;49m_read_status()\n\u001b[1;32m    321\u001b[0m     \u001b[39mif\u001b[39;00m status \u001b[39m!=\u001b[39m CONTINUE:\n\u001b[1;32m    322\u001b[0m         \u001b[39mbreak\u001b[39;00m\n",
      "File \u001b[0;32m~/miniconda3/lib/python3.9/http/client.py:281\u001b[0m, in \u001b[0;36mHTTPResponse._read_status\u001b[0;34m(self)\u001b[0m\n\u001b[1;32m    280\u001b[0m \u001b[39mdef\u001b[39;00m \u001b[39m_read_status\u001b[39m(\u001b[39mself\u001b[39m):\n\u001b[0;32m--> 281\u001b[0m     line \u001b[39m=\u001b[39m \u001b[39mstr\u001b[39m(\u001b[39mself\u001b[39;49m\u001b[39m.\u001b[39;49mfp\u001b[39m.\u001b[39;49mreadline(_MAXLINE \u001b[39m+\u001b[39;49m \u001b[39m1\u001b[39;49m), \u001b[39m\"\u001b[39m\u001b[39miso-8859-1\u001b[39m\u001b[39m\"\u001b[39m)\n\u001b[1;32m    282\u001b[0m     \u001b[39mif\u001b[39;00m \u001b[39mlen\u001b[39m(line) \u001b[39m>\u001b[39m _MAXLINE:\n\u001b[1;32m    283\u001b[0m         \u001b[39mraise\u001b[39;00m LineTooLong(\u001b[39m\"\u001b[39m\u001b[39mstatus line\u001b[39m\u001b[39m\"\u001b[39m)\n",
      "File \u001b[0;32m~/miniconda3/lib/python3.9/socket.py:704\u001b[0m, in \u001b[0;36mSocketIO.readinto\u001b[0;34m(self, b)\u001b[0m\n\u001b[1;32m    702\u001b[0m \u001b[39mwhile\u001b[39;00m \u001b[39mTrue\u001b[39;00m:\n\u001b[1;32m    703\u001b[0m     \u001b[39mtry\u001b[39;00m:\n\u001b[0;32m--> 704\u001b[0m         \u001b[39mreturn\u001b[39;00m \u001b[39mself\u001b[39;49m\u001b[39m.\u001b[39;49m_sock\u001b[39m.\u001b[39;49mrecv_into(b)\n\u001b[1;32m    705\u001b[0m     \u001b[39mexcept\u001b[39;00m timeout:\n\u001b[1;32m    706\u001b[0m         \u001b[39mself\u001b[39m\u001b[39m.\u001b[39m_timeout_occurred \u001b[39m=\u001b[39m \u001b[39mTrue\u001b[39;00m\n",
      "\u001b[0;31mKeyboardInterrupt\u001b[0m: "
     ]
    }
   ],
   "source": [
    "def get_num_images():\n",
    "    objects = client.list_objects(bucket_name=\"images\")\n",
    "    num_images = sum(1 for _ in objects)\n",
    "    return num_images\n",
    "\n",
    "num_images = get_num_images()\n",
    "\n",
    "def assign_image(index):\n",
    "    return index % num_images\n",
    "\n",
    "def create_restaurant(row):\n",
    "    body = {\n",
    "            \"name\": row[\"restaurant_name\"],\n",
    "            \"embeddingName\": f\"embedding_{(row['index'])}\",\n",
    "            \"imageName\": f\"restaurant_image_{assign_image(row['index'])}\",\n",
    "            \"address\": row[\"address\"],\n",
    "            \"latitude\": float(row[\"latitude\"]),\n",
    "            \"longitude\": float(row[\"longitude\"]),\n",
    "            \"country\": row[\"country\"],\n",
    "            \"region\": row[\"region\"],\n",
    "            \"province\": row[\"province\"],\n",
    "            \"city\": row[\"city\"],\n",
    "            \"tags\": row[\"top_tags\"],\n",
    "            \"cuisines\": row[\"cuisines\"],\n",
    "            \"specialDiets\": row[\"special_diets\"],\n",
    "            \"priceLevel\": row[\"price_level\"],\n",
    "            \"meals\": row[\"meals\"],\n",
    "            \"avgRating\": float(row[\"avg_rating\"]),\n",
    "            \"vegetarianFriendly\": row[\"vegetarian_friendly\"] == \"Y\",\n",
    "            \"veganFriendly\": row[\"vegan_options\"] == \"Y\",\n",
    "            \"glutenFree\": row[\"gluten_free\"] == \"Y\",\n",
    "            \"reviewsNumber\": int(row[\"total_reviews_count\"])\n",
    "        }\n",
    "\n",
    "    \n",
    "    result = requests.post(URL, json=body)\n",
    "\n",
    "import json\n",
    "import io\n",
    "def insert_embeddings(row):\n",
    "    BUCKET_NAME = \"embeddings\"\n",
    "    embedding =  embed_name(row[\"restaurant_name\"]).numpy().tolist()\n",
    "    embedding_str = json.dumps(embedding)\n",
    "    embedding_bytes = embedding_str.encode(\"utf-8\")\n",
    "    client.put_object(\n",
    "            BUCKET_NAME, f\"embedding_{row['index']}\", io.BytesIO(embedding_bytes), length=len(embedding_bytes))\n",
    "\n",
    "tqdm.pandas()\n",
    "df.progress_apply(create_restaurant, axis=1)\n",
    "# df.progress_apply(insert_embeddings, axis=1)"
   ]
  }
 ],
 "metadata": {
  "kernelspec": {
   "display_name": "base",
   "language": "python",
   "name": "python3"
  },
  "language_info": {
   "codemirror_mode": {
    "name": "ipython",
    "version": 3
   },
   "file_extension": ".py",
   "mimetype": "text/x-python",
   "name": "python",
   "nbconvert_exporter": "python",
   "pygments_lexer": "ipython3",
   "version": "3.9.12"
  },
  "orig_nbformat": 4
 },
 "nbformat": 4,
 "nbformat_minor": 2
}
