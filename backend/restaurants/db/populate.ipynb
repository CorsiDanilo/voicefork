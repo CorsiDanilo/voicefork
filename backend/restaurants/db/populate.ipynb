{
 "cells": [
  {
   "cell_type": "code",
   "execution_count": 1,
   "metadata": {},
   "outputs": [],
   "source": [
    "import numpy as np\n",
    "import pandas as pd\n",
    "import requests\n",
    "from zipfile import ZipFile\n",
    "from ahocorasick import Automaton\n",
    "from tqdm.auto import tqdm"
   ]
  },
  {
   "attachments": {},
   "cell_type": "markdown",
   "metadata": {},
   "source": [
    "# Code to clean the data"
   ]
  },
  {
   "cell_type": "code",
   "execution_count": 2,
   "metadata": {},
   "outputs": [
    {
     "name": "stderr",
     "output_type": "stream",
     "text": [
      "/var/folders/jb/ntxm50wx2wv90pnq36yd8w940000gn/T/ipykernel_69498/804822752.py:4: DtypeWarning: Columns (7) have mixed types. Specify dtype option on import or set low_memory=False.\n",
      "  data = pd.read_csv(zip_file.open(csv_file))\n"
     ]
    }
   ],
   "source": [
    "FILE = \"./italian_restaurants.zip\"\n",
    "zip_file = ZipFile(FILE)\n",
    "csv_file = zip_file.namelist()[0]\n",
    "data = pd.read_csv(zip_file.open(csv_file))"
   ]
  },
  {
   "cell_type": "code",
   "execution_count": 3,
   "metadata": {},
   "outputs": [
    {
     "data": {
      "text/plain": [
       "Unnamed: 0                                                                      650043\n",
       "restaurant_link                                                    g10029467-d18338571\n",
       "restaurant_name                                                                L'Ortal\n",
       "original_location                    [\"Europe\", \"Italy\", \"Friuli Venezia Giulia\", \"...\n",
       "country                                                                          Italy\n",
       "region                                                           Friuli Venezia Giulia\n",
       "province                                                         Province of Pordenone\n",
       "city                                                                               NaN\n",
       "address                                  Via Jacopo Ortis 15, 33090, Vito d'Asio Italy\n",
       "latitude                                                                      46.22801\n",
       "longitude                                                                      12.9397\n",
       "claimed                                                                      Unclaimed\n",
       "awards                                                                             NaN\n",
       "popularity_detailed                                  #1 of 1 Restaurant in Vito d'Asio\n",
       "popularity_generic                                #2 of 3 places to eat in Vito d'Asio\n",
       "top_tags                                         Cheap Eats, Italian, Northern-Italian\n",
       "price_level                                                                          €\n",
       "price_range                                                                        NaN\n",
       "meals                                                                              NaN\n",
       "cuisines                                                     Italian, Northern-Italian\n",
       "special_diets                                                                      NaN\n",
       "features                                                                           NaN\n",
       "vegetarian_friendly                                                                  N\n",
       "vegan_options                                                                        N\n",
       "gluten_free                                                                          N\n",
       "original_open_hours                                                                NaN\n",
       "open_days_per_week                                                                 NaN\n",
       "open_hours_per_week                                                                NaN\n",
       "working_shifts_per_week                                                            NaN\n",
       "avg_rating                                                                         5.0\n",
       "total_reviews_count                                                                5.0\n",
       "default_language                                                         All languages\n",
       "reviews_count_in_default_language                                                  5.0\n",
       "excellent                                                                          4.0\n",
       "very_good                                                                          1.0\n",
       "average                                                                            0.0\n",
       "poor                                                                               0.0\n",
       "terrible                                                                           0.0\n",
       "food                                                                               NaN\n",
       "service                                                                            NaN\n",
       "value                                                                              NaN\n",
       "atmosphere                                                                         NaN\n",
       "keywords                                                                           NaN\n",
       "Name: 0, dtype: object"
      ]
     },
     "execution_count": 3,
     "metadata": {},
     "output_type": "execute_result"
    }
   ],
   "source": [
    "data.iloc[0]"
   ]
  },
  {
   "attachments": {},
   "cell_type": "markdown",
   "metadata": {},
   "source": [
    "Removing useless fields"
   ]
  },
  {
   "cell_type": "code",
   "execution_count": 3,
   "metadata": {},
   "outputs": [],
   "source": [
    "df = data.drop([\"claimed\", \n",
    "           \"awards\", \n",
    "           \"popularity_detailed\", \n",
    "           \"popularity_generic\", \n",
    "           \"price_range\", \n",
    "           \"features\", \n",
    "           \"open_days_per_week\", \n",
    "           \"open_hours_per_week\", \n",
    "           \"working_shifts_per_week\",\n",
    "           \"default_language\",\n",
    "           \"reviews_count_in_default_language\",\n",
    "           \"excellent\",\n",
    "           \"very_good\",\n",
    "           \"average\",\n",
    "           \"poor\",\n",
    "           \"terrible\",\n",
    "           \"food\",\n",
    "           \"service\",\n",
    "           \"value\",\n",
    "           \"atmosphere\",\n",
    "           \"keywords\"], axis=1)"
   ]
  },
  {
   "attachments": {},
   "cell_type": "markdown",
   "metadata": {},
   "source": [
    "Populating the \"City\" field taking it from the address"
   ]
  },
  {
   "cell_type": "code",
   "execution_count": 4,
   "metadata": {},
   "outputs": [],
   "source": [
    "comuni_df = pd.read_csv(\"./elenco_comuni_italiani.csv\", encoding='iso-8859-1', delimiter=\";\")"
   ]
  },
  {
   "cell_type": "code",
   "execution_count": 5,
   "metadata": {},
   "outputs": [
    {
     "data": {
      "application/vnd.jupyter.widget-view+json": {
       "model_id": "30e45f1943094443816005e501a61bbb",
       "version_major": 2,
       "version_minor": 0
      },
      "text/plain": [
       "  0%|          | 0/224763 [00:00<?, ?it/s]"
      ]
     },
     "metadata": {},
     "output_type": "display_data"
    }
   ],
   "source": [
    "#TODO: \"Rome\" non viene preso, quindi risolvi questa cosa\n",
    "def build_automaton(keywords):\n",
    "    automaton = Automaton()\n",
    "    for keyword in keywords:\n",
    "        automaton.add_word(keyword, keyword)\n",
    "    automaton.make_automaton()\n",
    "    return automaton\n",
    "\n",
    "keywords = [row['Denominazione in italiano'].lower() for _, row in comuni_df.iterrows()]\n",
    "automaton = build_automaton(keywords)\n",
    "\n",
    "def find_comune(address):\n",
    "    found = set()\n",
    "    for item in automaton.iter(\",\".join(address.split(\",\")[1:]).lower()):\n",
    "        found.add(item[1])\n",
    "    if found:\n",
    "        return max(found, key=len)\n",
    "    else:\n",
    "        return None\n",
    "\n",
    "tqdm.pandas()\n",
    "df['city'] = df['address'].progress_apply(find_comune)\n",
    "\n"
   ]
  },
  {
   "cell_type": "code",
   "execution_count": 6,
   "metadata": {},
   "outputs": [],
   "source": [
    "final_df = df.copy()\n",
    "final_df['total_reviews_count'] = final_df['total_reviews_count'].fillna(0.0)\n",
    "final_df['avg_rating'] = final_df['avg_rating'].fillna(0.0)\n",
    "final_df = final_df.fillna(\"\")\n",
    "final_df = final_df[final_df[\"latitude\"] != \"\"]\n",
    "final_df = final_df[final_df[\"longitude\"] != \"\"]"
   ]
  },
  {
   "cell_type": "code",
   "execution_count": 7,
   "metadata": {},
   "outputs": [],
   "source": [
    "df = final_df.reset_index()"
   ]
  },
  {
   "attachments": {},
   "cell_type": "markdown",
   "metadata": {},
   "source": [
    "### Save the dataframe as a zipped file"
   ]
  },
  {
   "cell_type": "code",
   "execution_count": 13,
   "metadata": {},
   "outputs": [],
   "source": [
    "# from zipfile import ZipFile\n",
    "# import os\n",
    "\n",
    "# DF_PATH = \"./italian_restaurant_clean.csv\"\n",
    "# ZIP_PATH = \"./italian_restaurant_clean.zip\"\n",
    "# final_df.to_csv(DF_PATH)\n",
    "# with ZipFile(ZIP_PATH, \"w\") as myzip:\n",
    "#     myzip.write(DF_PATH)\n",
    "\n",
    "# os.remove(DF_PATH)"
   ]
  },
  {
   "attachments": {},
   "cell_type": "markdown",
   "metadata": {},
   "source": [
    "# Code to insert the restaurants in the database "
   ]
  },
  {
   "cell_type": "code",
   "execution_count": null,
   "metadata": {},
   "outputs": [],
   "source": [
    "# df = pd.read_csv(\"./italian_restaurant_clean.zip\")"
   ]
  },
  {
   "cell_type": "code",
   "execution_count": 8,
   "metadata": {},
   "outputs": [
    {
     "data": {
      "application/vnd.jupyter.widget-view+json": {
       "model_id": "f0b4174f9b8d450a93a8b1e146f19e78",
       "version_major": 2,
       "version_minor": 0
      },
      "text/plain": [
       "  0%|          | 0/222603 [00:00<?, ?it/s]"
      ]
     },
     "metadata": {},
     "output_type": "display_data"
    },
    {
     "data": {
      "text/plain": [
       "0         None\n",
       "1         None\n",
       "2         None\n",
       "3         None\n",
       "4         None\n",
       "          ... \n",
       "222598    None\n",
       "222599    None\n",
       "222600    None\n",
       "222601    None\n",
       "222602    None\n",
       "Length: 222603, dtype: object"
      ]
     },
     "execution_count": 8,
     "metadata": {},
     "output_type": "execute_result"
    }
   ],
   "source": [
    "from minio import Minio\n",
    "\n",
    "URL = 'http://localhost:3000/restaurants/create-restaurant'\n",
    "\n",
    "client = Minio(\n",
    "    \"localhost:9002\",\n",
    "    access_key=\"rxSdZSDLIM5nJcr1\",\n",
    "    secret_key=\"ATjj0yffTeQqIAgVC7GcxONoNGT0l7hS\",\n",
    "    secure=False  # Otherwise bug\n",
    ")\n",
    "\n",
    "def get_num_images():\n",
    "    objects = client.list_objects(bucket_name=\"images\")\n",
    "    num_images = sum(1 for _ in objects)\n",
    "    return num_images\n",
    "\n",
    "num_images = get_num_images()\n",
    "\n",
    "def assign_image(index):\n",
    "    return index % num_images\n",
    "\n",
    "def create_restaurant(row):\n",
    "    body = {\n",
    "            \"name\": row[\"restaurant_name\"],\n",
    "            \"imageName\": f\"restaurant_image_{assign_image(row['index'])}\",\n",
    "            \"address\": row[\"address\"],\n",
    "            \"latitude\": float(row[\"latitude\"]),\n",
    "            \"longitude\": float(row[\"longitude\"]),\n",
    "            \"country\": row[\"country\"],\n",
    "            \"region\": row[\"region\"],\n",
    "            \"province\": row[\"province\"],\n",
    "            \"city\": row[\"city\"],\n",
    "            \"tags\": row[\"top_tags\"],\n",
    "            \"cuisines\": row[\"cuisines\"],\n",
    "            \"specialDiets\": row[\"special_diets\"],\n",
    "            \"priceLevel\": row[\"price_level\"],\n",
    "            \"meals\": row[\"meals\"],\n",
    "            \"avgRating\": float(row[\"avg_rating\"]),\n",
    "            \"vegetarianFriendly\": row[\"vegetarian_friendly\"] == \"Y\",\n",
    "            \"veganFriendly\": row[\"vegan_options\"] == \"Y\",\n",
    "            \"glutenFree\": row[\"gluten_free\"] == \"Y\",\n",
    "            \"reviewsNumber\": int(row[\"total_reviews_count\"])\n",
    "        }\n",
    "\n",
    "    \n",
    "    result = requests.post(URL, json=body)\n",
    "\n",
    "tqdm.pandas()\n",
    "df.progress_apply(create_restaurant, axis=1)"
   ]
  }
 ],
 "metadata": {
  "kernelspec": {
   "display_name": "base",
   "language": "python",
   "name": "python3"
  },
  "language_info": {
   "codemirror_mode": {
    "name": "ipython",
    "version": 3
   },
   "file_extension": ".py",
   "mimetype": "text/x-python",
   "name": "python",
   "nbconvert_exporter": "python",
   "pygments_lexer": "ipython3",
   "version": "3.9.12"
  },
  "orig_nbformat": 4
 },
 "nbformat": 4,
 "nbformat_minor": 2
}
