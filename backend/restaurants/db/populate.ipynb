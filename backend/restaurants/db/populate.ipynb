{
 "cells": [
  {
   "cell_type": "code",
   "execution_count": 20,
   "metadata": {},
   "outputs": [],
   "source": [
    "import numpy as np\n",
    "import pandas as pd\n",
    "import requests\n",
    "from zipfile import ZipFile"
   ]
  },
  {
   "cell_type": "code",
   "execution_count": 6,
   "metadata": {},
   "outputs": [],
   "source": [
    "URL = 'https://localhost:3000/restaurants/create-restaurant'"
   ]
  },
  {
   "cell_type": "code",
   "execution_count": null,
   "metadata": {},
   "outputs": [],
   "source": [
    "FILE = \"./italian_restaurants.zip\"\n",
    "zip_file = ZipFile(FILE)\n",
    "csv_file = zip_file.namelist()[0]\n",
    "data = pd.read_csv(zip_file.open(csv_file))"
   ]
  },
  {
   "cell_type": "code",
   "execution_count": 27,
   "metadata": {},
   "outputs": [
    {
     "data": {
      "text/plain": [
       "Unnamed: 0                           224763\n",
       "restaurant_link                      224763\n",
       "restaurant_name                      224763\n",
       "original_location                    224763\n",
       "country                              224763\n",
       "region                               224763\n",
       "province                             202503\n",
       "city                                  32161\n",
       "address                              224763\n",
       "latitude                             222603\n",
       "longitude                            222603\n",
       "claimed                              224382\n",
       "awards                                65488\n",
       "popularity_detailed                  208339\n",
       "popularity_generic                   207487\n",
       "top_tags                             207229\n",
       "price_level                          172016\n",
       "price_range                           63758\n",
       "meals                                127240\n",
       "cuisines                             195924\n",
       "special_diets                         80608\n",
       "features                              70162\n",
       "vegetarian_friendly                  224763\n",
       "vegan_options                        224763\n",
       "gluten_free                          224763\n",
       "original_open_hours                  118266\n",
       "open_days_per_week                   118266\n",
       "open_hours_per_week                  118266\n",
       "working_shifts_per_week              118266\n",
       "avg_rating                           208055\n",
       "total_reviews_count                  217549\n",
       "default_language                     208373\n",
       "reviews_count_in_default_language    208373\n",
       "excellent                            208373\n",
       "very_good                            208373\n",
       "average                              208373\n",
       "poor                                 208373\n",
       "terrible                             208373\n",
       "food                                 135455\n",
       "service                              135832\n",
       "value                                135678\n",
       "atmosphere                            73041\n",
       "keywords                               5566\n",
       "dtype: int64"
      ]
     },
     "execution_count": 27,
     "metadata": {},
     "output_type": "execute_result"
    }
   ],
   "source": [
    "data.count()"
   ]
  }
 ],
 "metadata": {
  "kernelspec": {
   "display_name": "base",
   "language": "python",
   "name": "python3"
  },
  "language_info": {
   "codemirror_mode": {
    "name": "ipython",
    "version": 3
   },
   "file_extension": ".py",
   "mimetype": "text/x-python",
   "name": "python",
   "nbconvert_exporter": "python",
   "pygments_lexer": "ipython3",
   "version": "3.9.12"
  },
  "orig_nbformat": 4
 },
 "nbformat": 4,
 "nbformat_minor": 2
}
